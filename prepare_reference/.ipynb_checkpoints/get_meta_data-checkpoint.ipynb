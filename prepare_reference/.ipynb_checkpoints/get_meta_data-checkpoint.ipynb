{
 "cells": [
  {
   "cell_type": "code",
   "execution_count": 1,
   "id": "91b7e220-ec96-4801-a87c-bd46424bf415",
   "metadata": {},
   "outputs": [],
   "source": [
    "import pandas as pd\n",
    "import os"
   ]
  },
  {
   "cell_type": "code",
   "execution_count": 2,
   "id": "77af0164-4b14-4531-b9e6-371b754ac2b4",
   "metadata": {},
   "outputs": [],
   "source": [
    "## get unique samples to build references\n",
    "meta = pd.read_csv('real_data_coverage.csv')"
   ]
  },
  {
   "cell_type": "code",
   "execution_count": 3,
   "id": "431fb2fb-894b-4a0f-81b7-93192bf4d8e3",
   "metadata": {},
   "outputs": [],
   "source": [
    "unique_samples = meta['cell_line'].unique()"
   ]
  },
  {
   "cell_type": "code",
   "execution_count": 4,
   "id": "5787b1c2-645b-4569-9990-b648f3180579",
   "metadata": {},
   "outputs": [],
   "source": [
    "unique_df = pd.DataFrame(unique_samples, columns=['unique_samples'])\n",
    "unique_df.to_csv('unique_samples.txt', header=None, index=False, sep = '\\t')"
   ]
  },
  {
   "cell_type": "code",
   "execution_count": null,
   "id": "7f31f1b0-e84f-4f31-a3e5-8b78403527b9",
   "metadata": {},
   "outputs": [],
   "source": []
  },
  {
   "cell_type": "code",
   "execution_count": 5,
   "id": "3c1f8f78-8a16-4fb1-a229-118287f50660",
   "metadata": {},
   "outputs": [],
   "source": [
    "### read populations and write samples in real data"
   ]
  },
  {
   "cell_type": "code",
   "execution_count": 6,
   "id": "745ae86e-b623-41fe-b621-2180d5ba1e62",
   "metadata": {},
   "outputs": [],
   "source": [
    "pop_info = pd.read_table('1000G_2504_high_coverage.sequence.index', comment ='#', header = None)"
   ]
  },
  {
   "cell_type": "code",
   "execution_count": 7,
   "id": "1b754e19-d790-449f-bf94-37fec0da05b6",
   "metadata": {},
   "outputs": [],
   "source": [
    "header = '#ENA_FILE_PATH\tMD5SUM\tRUN_ID\tSTUDY_ID\tSTUDY_NAME\tCENTER_NAME\tSUBMISSION_ID\tSUBMISSION_DATE\tSAMPLE_ID\tSAMPLE_NAME\tPOPULATION\tEXPERIMENT_ID\tINSTRUMENT_PLATFORM\tINSTRUMENT_MODEL\tLIBRARY_NAME\tRUN_NAME\tINSERT_SIZE\tLIBRARY_LAYOUT\tPAIRED_FASTQ\tREAD_COUNT\tBASE_COUNT\tANALYSIS_GROUP'.split()"
   ]
  },
  {
   "cell_type": "code",
   "execution_count": 8,
   "id": "c00d3655-5cfb-4ccd-888e-e2c5a9649f74",
   "metadata": {},
   "outputs": [],
   "source": [
    "pop_info.columns = header"
   ]
  },
  {
   "cell_type": "code",
   "execution_count": 9,
   "id": "6f1afc30-3204-4974-9560-8e159d54e1ff",
   "metadata": {},
   "outputs": [],
   "source": [
    "## write all 2504 samples\n",
    "pop_all_samples = pop_info['LIBRARY_NAME']"
   ]
  },
  {
   "cell_type": "code",
   "execution_count": 10,
   "id": "1b853575-c0a5-4337-af14-2d0049ebeb74",
   "metadata": {},
   "outputs": [],
   "source": [
    "pop_all_samples.to_csv('2504_samples.txt', header=None, index=False, sep = '\\t')"
   ]
  },
  {
   "cell_type": "code",
   "execution_count": 11,
   "id": "d1dd89cd-4a81-4e4b-85d7-4d1fd3ac1d4b",
   "metadata": {},
   "outputs": [],
   "source": [
    "african_populations = [\n",
    "    'YRI',  # Yoruba in Nigeria\n",
    "    'LWK',  # Luhya in Webuye, Kenya\n",
    "    'GWD',  # Gambian in Western Divisions in the Gambia\n",
    "    'MSL',  # Mende in Sierra Leone\n",
    "    'ESN',  # Esan in Nigeria\n",
    "    'ASW',  # Americans of African Ancestry in SW USA\n",
    "    'ACB'   # African Caribbean in Barbados\n",
    "]\n",
    "\n",
    "\n",
    "european_populations = [\n",
    "    'CEU',  # Utah Residents (CEPH) with Northern and Western European Ancestry\n",
    "    'TSI',  # Toscani in Italy\n",
    "    'FIN',  # Finnish in Finland\n",
    "    'GBR',  # British in England and Scotland\n",
    "    'IBS'   # Iberian populations in Spain\n",
    "]"
   ]
  },
  {
   "cell_type": "code",
   "execution_count": 12,
   "id": "28d7cde7-a66b-4022-90dd-ffa936cc0f88",
   "metadata": {},
   "outputs": [
    {
     "data": {
      "text/plain": [
       "58"
      ]
     },
     "execution_count": 12,
     "metadata": {},
     "output_type": "execute_result"
    }
   ],
   "source": [
    "pick = pop_info.POPULATION.isin(european_populations)\n",
    "eur = pop_info['LIBRARY_NAME'][pick]\n",
    "eur_df = unique_df[unique_df.unique_samples.isin(eur)]\n",
    "eur_df.to_csv('eur_samples.txt', header=None, index=False, sep = '\\t')\n",
    "len(eur_df)"
   ]
  },
  {
   "cell_type": "code",
   "execution_count": 14,
   "id": "bde67cad-0d8c-4e5e-9ddb-1f4b73d87c97",
   "metadata": {},
   "outputs": [],
   "source": [
    "pick = pop_info.POPULATION.isin(african_populations)\n",
    "afr = pop_info['LIBRARY_NAME'][pick]\n",
    "afr_df = unique_df[unique_df.unique_samples.isin(afr)]\n",
    "afr_df.to_csv('afr_samples.txt', header=None, index=False, sep = '\\t')"
   ]
  },
  {
   "cell_type": "code",
   "execution_count": 15,
   "id": "f26bae25-ea40-48d3-8aa3-070a0adf7dfd",
   "metadata": {},
   "outputs": [
    {
     "data": {
      "text/plain": [
       "60"
      ]
     },
     "execution_count": 15,
     "metadata": {},
     "output_type": "execute_result"
    }
   ],
   "source": [
    "len(afr_df)"
   ]
  },
  {
   "cell_type": "code",
   "execution_count": null,
   "id": "565a1dd4-aff4-4e7d-bde9-b021a3651aa5",
   "metadata": {},
   "outputs": [],
   "source": []
  },
  {
   "cell_type": "code",
   "execution_count": 16,
   "id": "153e9fe9-3f9c-4205-a413-c42ec2415eae",
   "metadata": {},
   "outputs": [],
   "source": [
    "data = pd.read_table('meta_experiment_A.txt', header = None, sep='\\s+')"
   ]
  },
  {
   "cell_type": "code",
   "execution_count": 17,
   "id": "707f6cf2-cff7-484a-bb92-571e726f018f",
   "metadata": {},
   "outputs": [],
   "source": [
    "data.columns = ['date', 'size', 'unit', 'file']"
   ]
  },
  {
   "cell_type": "code",
   "execution_count": 18,
   "id": "7390caac-599a-4345-9180-99320bff3c98",
   "metadata": {},
   "outputs": [],
   "source": [
    "data['cell_line'] = [x.split('-')[0] for x in data['file']]\n",
    "data['coverage'] = [x.split('-')[1] for x in data['file']]\n",
    "data['replicate'] = [x.split('-')[2] for x in data['file']]"
   ]
  },
  {
   "cell_type": "code",
   "execution_count": 23,
   "id": "da646601-4e01-45dd-841a-059607875574",
   "metadata": {},
   "outputs": [
    {
     "data": {
      "text/plain": [
       "pandas.core.series.Series"
      ]
     },
     "execution_count": 23,
     "metadata": {},
     "output_type": "execute_result"
    }
   ],
   "source": [
    "type(eur)"
   ]
  },
  {
   "cell_type": "code",
   "execution_count": 59,
   "id": "38311c46-a508-4307-b441-31cfd9da7522",
   "metadata": {},
   "outputs": [],
   "source": [
    "def get_meta_data(data, pop, relicate):\n",
    "    path_prefix = 'https://gencove-sbir.s3.amazonaws.com/fastq/experiment-A/'\n",
    "    pick = (data['cell_line'].isin(pop)) & (data['replicate'] == str(relicate))\n",
    "    tem = data[pick]\n",
    "    sample_id = []\n",
    "    read1 = []\n",
    "    read2 = []\n",
    "    for file in tem['file']:\n",
    "        if 'R1' in file:\n",
    "            sample_id.append(file.split('-')[0])\n",
    "            read1.append(path_prefix + file)\n",
    "        else:\n",
    "            read2.append(path_prefix + file)\n",
    "    return pd.DataFrame({'sample_id': sample_id, 'read1': read1, 'read2': read2})"
   ]
  },
  {
   "cell_type": "code",
   "execution_count": 61,
   "id": "1a82081b-4280-4368-adb2-97b08d98ed46",
   "metadata": {},
   "outputs": [],
   "source": [
    "eur_rep1 = get_meta_data(data, eur, '0')"
   ]
  },
  {
   "cell_type": "code",
   "execution_count": 63,
   "id": "f6becf82-f692-45f1-9808-4077b8156f3c",
   "metadata": {},
   "outputs": [],
   "source": [
    "eur_rep1.to_csv('eur_rep1.csv', index=None)"
   ]
  },
  {
   "cell_type": "code",
   "execution_count": null,
   "id": "d5229577-092a-4f0b-b6c1-a43763568143",
   "metadata": {},
   "outputs": [],
   "source": []
  }
 ],
 "metadata": {
  "kernelspec": {
   "display_name": "Python 3 (ipykernel)",
   "language": "python",
   "name": "python3"
  },
  "language_info": {
   "codemirror_mode": {
    "name": "ipython",
    "version": 3
   },
   "file_extension": ".py",
   "mimetype": "text/x-python",
   "name": "python",
   "nbconvert_exporter": "python",
   "pygments_lexer": "ipython3",
   "version": "3.10.11"
  }
 },
 "nbformat": 4,
 "nbformat_minor": 5
}
