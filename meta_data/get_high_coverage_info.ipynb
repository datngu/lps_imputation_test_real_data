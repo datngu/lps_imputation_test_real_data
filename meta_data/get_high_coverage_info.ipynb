{
 "cells": [
  {
   "cell_type": "code",
   "execution_count": 1,
   "id": "1a864e4b-d91f-45f3-b042-c9d22820201b",
   "metadata": {},
   "outputs": [],
   "source": [
    "import pandas as pd\n",
    "from pathlib import Path\n",
    "\n",
    "# Path to your folder\n",
    "folder_path = Path(\"meta_10_folds\")\n",
    "\n",
    "# Collect all CSV files in the folder, sorted for consistent order\n",
    "csv_files = sorted(folder_path.glob(\"batch_*.csv\"))\n",
    "\n",
    "# Read and concatenate all\n",
    "df_list = [pd.read_csv(f) for f in csv_files]\n",
    "df_all = pd.concat(df_list, ignore_index=True)"
   ]
  },
  {
   "cell_type": "code",
   "execution_count": 2,
   "id": "efc54374-f4fb-43bb-8e8c-a1454e0adc2d",
   "metadata": {},
   "outputs": [
    {
     "data": {
      "text/html": [
       "<div>\n",
       "<style scoped>\n",
       "    .dataframe tbody tr th:only-of-type {\n",
       "        vertical-align: middle;\n",
       "    }\n",
       "\n",
       "    .dataframe tbody tr th {\n",
       "        vertical-align: top;\n",
       "    }\n",
       "\n",
       "    .dataframe thead th {\n",
       "        text-align: right;\n",
       "    }\n",
       "</style>\n",
       "<table border=\"1\" class=\"dataframe\">\n",
       "  <thead>\n",
       "    <tr style=\"text-align: right;\">\n",
       "      <th></th>\n",
       "      <th>SAMPLE_NAME</th>\n",
       "      <th>ENA_FILE_PATH</th>\n",
       "      <th>READ_COUNT</th>\n",
       "      <th>POPULATION</th>\n",
       "      <th>MD5SUM</th>\n",
       "    </tr>\n",
       "  </thead>\n",
       "  <tbody>\n",
       "    <tr>\n",
       "      <th>0</th>\n",
       "      <td>NA12778</td>\n",
       "      <td>https://ftp-trace.ncbi.nlm.nih.gov/1000genomes...</td>\n",
       "      <td>696060544</td>\n",
       "      <td>CEU</td>\n",
       "      <td>b03ae320c1a3b13c750d23d28a8dbc13</td>\n",
       "    </tr>\n",
       "    <tr>\n",
       "      <th>1</th>\n",
       "      <td>NA12890</td>\n",
       "      <td>https://ftp-trace.ncbi.nlm.nih.gov/1000genomes...</td>\n",
       "      <td>720143520</td>\n",
       "      <td>CEU</td>\n",
       "      <td>7fc3c5b9735d74c19cc03786093534cb</td>\n",
       "    </tr>\n",
       "    <tr>\n",
       "      <th>2</th>\n",
       "      <td>NA18557</td>\n",
       "      <td>https://ftp-trace.ncbi.nlm.nih.gov/1000genomes...</td>\n",
       "      <td>722526246</td>\n",
       "      <td>CHB</td>\n",
       "      <td>cb55f27757254463c9eda000761f91ed</td>\n",
       "    </tr>\n",
       "    <tr>\n",
       "      <th>3</th>\n",
       "      <td>NA20753</td>\n",
       "      <td>https://ftp-trace.ncbi.nlm.nih.gov/1000genomes...</td>\n",
       "      <td>721885300</td>\n",
       "      <td>TSI</td>\n",
       "      <td>fac1ceba516ac43e3974d490a25d73de</td>\n",
       "    </tr>\n",
       "    <tr>\n",
       "      <th>4</th>\n",
       "      <td>NA20756</td>\n",
       "      <td>https://ftp-trace.ncbi.nlm.nih.gov/1000genomes...</td>\n",
       "      <td>738864574</td>\n",
       "      <td>TSI</td>\n",
       "      <td>f4008a6feb206541ef1c3b038c0dfe6e</td>\n",
       "    </tr>\n",
       "    <tr>\n",
       "      <th>...</th>\n",
       "      <td>...</td>\n",
       "      <td>...</td>\n",
       "      <td>...</td>\n",
       "      <td>...</td>\n",
       "      <td>...</td>\n",
       "    </tr>\n",
       "    <tr>\n",
       "      <th>2499</th>\n",
       "      <td>HG02188</td>\n",
       "      <td>https://ftp-trace.ncbi.nlm.nih.gov/1000genomes...</td>\n",
       "      <td>735794714</td>\n",
       "      <td>CDX</td>\n",
       "      <td>01a0d7e51da8542a9403fad9add80218</td>\n",
       "    </tr>\n",
       "    <tr>\n",
       "      <th>2500</th>\n",
       "      <td>HG00632</td>\n",
       "      <td>https://ftp-trace.ncbi.nlm.nih.gov/1000genomes...</td>\n",
       "      <td>700382870</td>\n",
       "      <td>CHS</td>\n",
       "      <td>f754219db5c3159967b4e426a80ee7b3</td>\n",
       "    </tr>\n",
       "    <tr>\n",
       "      <th>2501</th>\n",
       "      <td>HG00675</td>\n",
       "      <td>https://ftp-trace.ncbi.nlm.nih.gov/1000genomes...</td>\n",
       "      <td>704195018</td>\n",
       "      <td>CHS</td>\n",
       "      <td>b4f210c82854e9ac6e914b3a7e174346</td>\n",
       "    </tr>\n",
       "    <tr>\n",
       "      <th>2502</th>\n",
       "      <td>HG03025</td>\n",
       "      <td>https://ftp-trace.ncbi.nlm.nih.gov/1000genomes...</td>\n",
       "      <td>682641214</td>\n",
       "      <td>GWD</td>\n",
       "      <td>b73514e953b621c42afa76e46a02fddb</td>\n",
       "    </tr>\n",
       "    <tr>\n",
       "      <th>2503</th>\n",
       "      <td>HG03088</td>\n",
       "      <td>https://ftp-trace.ncbi.nlm.nih.gov/1000genomes...</td>\n",
       "      <td>781152254</td>\n",
       "      <td>MSL</td>\n",
       "      <td>bfb69d9184f3387e887a92948726fb5b</td>\n",
       "    </tr>\n",
       "  </tbody>\n",
       "</table>\n",
       "<p>2504 rows × 5 columns</p>\n",
       "</div>"
      ],
      "text/plain": [
       "     SAMPLE_NAME                                      ENA_FILE_PATH  \\\n",
       "0        NA12778  https://ftp-trace.ncbi.nlm.nih.gov/1000genomes...   \n",
       "1        NA12890  https://ftp-trace.ncbi.nlm.nih.gov/1000genomes...   \n",
       "2        NA18557  https://ftp-trace.ncbi.nlm.nih.gov/1000genomes...   \n",
       "3        NA20753  https://ftp-trace.ncbi.nlm.nih.gov/1000genomes...   \n",
       "4        NA20756  https://ftp-trace.ncbi.nlm.nih.gov/1000genomes...   \n",
       "...          ...                                                ...   \n",
       "2499     HG02188  https://ftp-trace.ncbi.nlm.nih.gov/1000genomes...   \n",
       "2500     HG00632  https://ftp-trace.ncbi.nlm.nih.gov/1000genomes...   \n",
       "2501     HG00675  https://ftp-trace.ncbi.nlm.nih.gov/1000genomes...   \n",
       "2502     HG03025  https://ftp-trace.ncbi.nlm.nih.gov/1000genomes...   \n",
       "2503     HG03088  https://ftp-trace.ncbi.nlm.nih.gov/1000genomes...   \n",
       "\n",
       "      READ_COUNT POPULATION                            MD5SUM  \n",
       "0      696060544        CEU  b03ae320c1a3b13c750d23d28a8dbc13  \n",
       "1      720143520        CEU  7fc3c5b9735d74c19cc03786093534cb  \n",
       "2      722526246        CHB  cb55f27757254463c9eda000761f91ed  \n",
       "3      721885300        TSI  fac1ceba516ac43e3974d490a25d73de  \n",
       "4      738864574        TSI  f4008a6feb206541ef1c3b038c0dfe6e  \n",
       "...          ...        ...                               ...  \n",
       "2499   735794714        CDX  01a0d7e51da8542a9403fad9add80218  \n",
       "2500   700382870        CHS  f754219db5c3159967b4e426a80ee7b3  \n",
       "2501   704195018        CHS  b4f210c82854e9ac6e914b3a7e174346  \n",
       "2502   682641214        GWD  b73514e953b621c42afa76e46a02fddb  \n",
       "2503   781152254        MSL  bfb69d9184f3387e887a92948726fb5b  \n",
       "\n",
       "[2504 rows x 5 columns]"
      ]
     },
     "execution_count": 2,
     "metadata": {},
     "output_type": "execute_result"
    }
   ],
   "source": [
    "df_all"
   ]
  },
  {
   "cell_type": "code",
   "execution_count": 3,
   "id": "6551bac3-bd7f-4213-90df-34e0093f3bdf",
   "metadata": {},
   "outputs": [],
   "source": [
    "eur_rep1 = pd.read_csv('eur_rep1.csv')"
   ]
  },
  {
   "cell_type": "code",
   "execution_count": 6,
   "id": "f4524e01-c3ba-455e-8a4f-da0fdbb79c5c",
   "metadata": {},
   "outputs": [],
   "source": [
    "pick = df_all.SAMPLE_NAME.isin(eur_rep1.sample_id)"
   ]
  },
  {
   "cell_type": "code",
   "execution_count": 7,
   "id": "dff74431-77f9-40fe-beaf-8ac4cd4e3cd7",
   "metadata": {},
   "outputs": [
    {
     "data": {
      "text/plain": [
       "57"
      ]
     },
     "execution_count": 7,
     "metadata": {},
     "output_type": "execute_result"
    }
   ],
   "source": [
    "sum(pick)"
   ]
  },
  {
   "cell_type": "code",
   "execution_count": 11,
   "id": "4510daf4-0442-4594-9f7a-f2965224b0eb",
   "metadata": {},
   "outputs": [],
   "source": [
    "df_all[pick].to_csv('eur_rep1_high_coverage_info.csv')"
   ]
  },
  {
   "cell_type": "code",
   "execution_count": null,
   "id": "dfc9e861-18e5-4eb5-8665-dce4ed01230a",
   "metadata": {},
   "outputs": [],
   "source": []
  }
 ],
 "metadata": {
  "kernelspec": {
   "display_name": "Python 3 (ipykernel)",
   "language": "python",
   "name": "python3"
  },
  "language_info": {
   "codemirror_mode": {
    "name": "ipython",
    "version": 3
   },
   "file_extension": ".py",
   "mimetype": "text/x-python",
   "name": "python",
   "nbconvert_exporter": "python",
   "pygments_lexer": "ipython3",
   "version": "3.12.9"
  }
 },
 "nbformat": 4,
 "nbformat_minor": 5
}
